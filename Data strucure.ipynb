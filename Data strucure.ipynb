{
 "cells": [
  {
   "cell_type": "markdown",
   "id": "65c3f5ad",
   "metadata": {},
   "source": [
    "# List"
   ]
  },
  {
   "cell_type": "code",
   "execution_count": 1,
   "id": "6cd08487",
   "metadata": {},
   "outputs": [],
   "source": [
    "grades=[90,80,70,60,50]"
   ]
  },
  {
   "cell_type": "code",
   "execution_count": 4,
   "id": "8d4a19aa",
   "metadata": {},
   "outputs": [
    {
     "data": {
      "text/plain": [
       "[90, 80, 70, 60, 50]"
      ]
     },
     "execution_count": 4,
     "metadata": {},
     "output_type": "execute_result"
    }
   ],
   "source": [
    "grades"
   ]
  },
  {
   "cell_type": "code",
   "execution_count": 5,
   "id": "1ac7ffdc",
   "metadata": {},
   "outputs": [],
   "source": [
    "grades.append(20)"
   ]
  },
  {
   "cell_type": "code",
   "execution_count": 6,
   "id": "f87fb90c",
   "metadata": {},
   "outputs": [
    {
     "data": {
      "text/plain": [
       "[90, 80, 70, 60, 50, 20]"
      ]
     },
     "execution_count": 6,
     "metadata": {},
     "output_type": "execute_result"
    }
   ],
   "source": [
    "grades"
   ]
  },
  {
   "cell_type": "code",
   "execution_count": 7,
   "id": "6df40cdc",
   "metadata": {},
   "outputs": [],
   "source": [
    "grades.insert(0,100)"
   ]
  },
  {
   "cell_type": "code",
   "execution_count": 8,
   "id": "ac556f49",
   "metadata": {},
   "outputs": [
    {
     "data": {
      "text/plain": [
       "[100, 90, 80, 70, 60, 50, 20]"
      ]
     },
     "execution_count": 8,
     "metadata": {},
     "output_type": "execute_result"
    }
   ],
   "source": [
    "grades"
   ]
  },
  {
   "cell_type": "code",
   "execution_count": 9,
   "id": "8d45a9e2",
   "metadata": {},
   "outputs": [
    {
     "data": {
      "text/plain": [
       "100"
      ]
     },
     "execution_count": 9,
     "metadata": {},
     "output_type": "execute_result"
    }
   ],
   "source": [
    "grades[0]"
   ]
  },
  {
   "cell_type": "code",
   "execution_count": 10,
   "id": "f9bf9128",
   "metadata": {},
   "outputs": [],
   "source": [
    "grades.remove(50)"
   ]
  },
  {
   "cell_type": "code",
   "execution_count": 11,
   "id": "7144d966",
   "metadata": {},
   "outputs": [
    {
     "data": {
      "text/plain": [
       "[100, 90, 80, 70, 60, 20]"
      ]
     },
     "execution_count": 11,
     "metadata": {},
     "output_type": "execute_result"
    }
   ],
   "source": [
    "grades"
   ]
  },
  {
   "cell_type": "code",
   "execution_count": 12,
   "id": "c88a3034",
   "metadata": {},
   "outputs": [],
   "source": [
    "grades[1]=99"
   ]
  },
  {
   "cell_type": "code",
   "execution_count": 13,
   "id": "efff1fc2",
   "metadata": {},
   "outputs": [
    {
     "data": {
      "text/plain": [
       "[100, 99, 80, 70, 60, 20]"
      ]
     },
     "execution_count": 13,
     "metadata": {},
     "output_type": "execute_result"
    }
   ],
   "source": [
    "grades"
   ]
  },
  {
   "cell_type": "code",
   "execution_count": 14,
   "id": "36808e5b",
   "metadata": {},
   "outputs": [],
   "source": [
    "grades.sort()"
   ]
  },
  {
   "cell_type": "code",
   "execution_count": 15,
   "id": "636afd02",
   "metadata": {},
   "outputs": [
    {
     "data": {
      "text/plain": [
       "[20, 60, 70, 80, 99, 100]"
      ]
     },
     "execution_count": 15,
     "metadata": {},
     "output_type": "execute_result"
    }
   ],
   "source": [
    "grades"
   ]
  },
  {
   "cell_type": "code",
   "execution_count": 16,
   "id": "0b802cf3",
   "metadata": {},
   "outputs": [
    {
     "data": {
      "text/plain": [
       "1"
      ]
     },
     "execution_count": 16,
     "metadata": {},
     "output_type": "execute_result"
    }
   ],
   "source": [
    "grades.index(60)"
   ]
  },
  {
   "cell_type": "code",
   "execution_count": 17,
   "id": "e0443983",
   "metadata": {},
   "outputs": [
    {
     "data": {
      "text/plain": [
       "5"
      ]
     },
     "execution_count": 17,
     "metadata": {},
     "output_type": "execute_result"
    }
   ],
   "source": [
    "grades.index(100)"
   ]
  },
  {
   "cell_type": "markdown",
   "id": "54253c04",
   "metadata": {},
   "source": [
    "# Tuples"
   ]
  },
  {
   "cell_type": "code",
   "execution_count": 18,
   "id": "e4fb100e",
   "metadata": {},
   "outputs": [],
   "source": [
    "gender=(\"Male\",\"Female\")"
   ]
  },
  {
   "cell_type": "code",
   "execution_count": 19,
   "id": "4665acee",
   "metadata": {},
   "outputs": [
    {
     "data": {
      "text/plain": [
       "('Male', 'Female')"
      ]
     },
     "execution_count": 19,
     "metadata": {},
     "output_type": "execute_result"
    }
   ],
   "source": [
    "gender"
   ]
  },
  {
   "cell_type": "code",
   "execution_count": 20,
   "id": "6b2e69c1",
   "metadata": {},
   "outputs": [
    {
     "data": {
      "text/plain": [
       "'Male'"
      ]
     },
     "execution_count": 20,
     "metadata": {},
     "output_type": "execute_result"
    }
   ],
   "source": [
    "gender[0]"
   ]
  },
  {
   "cell_type": "markdown",
   "id": "0bb12493",
   "metadata": {},
   "source": [
    "# Sets"
   ]
  },
  {
   "cell_type": "code",
   "execution_count": 21,
   "id": "c78648d2",
   "metadata": {},
   "outputs": [],
   "source": [
    "fruits={\"Orange\",\"Apple\"}"
   ]
  },
  {
   "cell_type": "code",
   "execution_count": 22,
   "id": "5b0a80e0",
   "metadata": {},
   "outputs": [
    {
     "data": {
      "text/plain": [
       "{'Apple', 'Orange'}"
      ]
     },
     "execution_count": 22,
     "metadata": {},
     "output_type": "execute_result"
    }
   ],
   "source": [
    "fruits"
   ]
  },
  {
   "cell_type": "code",
   "execution_count": 23,
   "id": "fe0671d6",
   "metadata": {},
   "outputs": [],
   "source": [
    "fruits.add(\"Banna\")"
   ]
  },
  {
   "cell_type": "code",
   "execution_count": 24,
   "id": "b0ffda91",
   "metadata": {},
   "outputs": [
    {
     "data": {
      "text/plain": [
       "{'Apple', 'Banna', 'Orange'}"
      ]
     },
     "execution_count": 24,
     "metadata": {},
     "output_type": "execute_result"
    }
   ],
   "source": [
    "fruits"
   ]
  },
  {
   "cell_type": "code",
   "execution_count": 25,
   "id": "00d26345",
   "metadata": {},
   "outputs": [],
   "source": [
    "fruits.add(\"Watermellon\")"
   ]
  },
  {
   "cell_type": "code",
   "execution_count": 26,
   "id": "c3d5ba05",
   "metadata": {},
   "outputs": [
    {
     "data": {
      "text/plain": [
       "{'Apple', 'Banna', 'Orange', 'Watermellon'}"
      ]
     },
     "execution_count": 26,
     "metadata": {},
     "output_type": "execute_result"
    }
   ],
   "source": [
    "fruits"
   ]
  },
  {
   "cell_type": "code",
   "execution_count": 27,
   "id": "4c38573b",
   "metadata": {},
   "outputs": [
    {
     "ename": "TypeError",
     "evalue": "'set' object is not subscriptable",
     "output_type": "error",
     "traceback": [
      "\u001b[0;31m---------------------------------------------------------------------------\u001b[0m",
      "\u001b[0;31mTypeError\u001b[0m                                 Traceback (most recent call last)",
      "Input \u001b[0;32mIn [27]\u001b[0m, in \u001b[0;36m<cell line: 1>\u001b[0;34m()\u001b[0m\n\u001b[0;32m----> 1\u001b[0m \u001b[43mfruits\u001b[49m\u001b[43m[\u001b[49m\u001b[38;5;241;43m0\u001b[39;49m\u001b[43m]\u001b[49m\n",
      "\u001b[0;31mTypeError\u001b[0m: 'set' object is not subscriptable"
     ]
    }
   ],
   "source": [
    "fruits[0]"
   ]
  },
  {
   "cell_type": "code",
   "execution_count": 28,
   "id": "fec82e6d",
   "metadata": {},
   "outputs": [
    {
     "name": "stdout",
     "output_type": "stream",
     "text": [
      "Banna\n",
      "Orange\n",
      "Watermellon\n",
      "Apple\n"
     ]
    }
   ],
   "source": [
    "for fruit in fruits:\n",
    "    print(fruit)"
   ]
  },
  {
   "cell_type": "markdown",
   "id": "0e991096",
   "metadata": {},
   "source": [
    "# Dictionary"
   ]
  },
  {
   "cell_type": "code",
   "execution_count": 29,
   "id": "5bacd83e",
   "metadata": {},
   "outputs": [],
   "source": [
    "student_dict={\"name\":\"Eman\",\"age\":22,\"Faculty\":\"CS\"}"
   ]
  },
  {
   "cell_type": "code",
   "execution_count": 30,
   "id": "70df05ba",
   "metadata": {},
   "outputs": [
    {
     "data": {
      "text/plain": [
       "{'name': 'Eman', 'age': 22, 'Faculty': 'CS'}"
      ]
     },
     "execution_count": 30,
     "metadata": {},
     "output_type": "execute_result"
    }
   ],
   "source": [
    "student_dict"
   ]
  },
  {
   "cell_type": "code",
   "execution_count": 31,
   "id": "8ae0f230",
   "metadata": {},
   "outputs": [
    {
     "data": {
      "text/plain": [
       "'Eman'"
      ]
     },
     "execution_count": 31,
     "metadata": {},
     "output_type": "execute_result"
    }
   ],
   "source": [
    "student_dict[\"name\"]"
   ]
  },
  {
   "cell_type": "code",
   "execution_count": 32,
   "id": "50593b9e",
   "metadata": {},
   "outputs": [
    {
     "data": {
      "text/plain": [
       "22"
      ]
     },
     "execution_count": 32,
     "metadata": {},
     "output_type": "execute_result"
    }
   ],
   "source": [
    "student_dict[\"age\"]"
   ]
  },
  {
   "cell_type": "code",
   "execution_count": 40,
   "id": "34640913",
   "metadata": {},
   "outputs": [],
   "source": [
    "student_dict.update({\"Faculty\":\"AI\"})"
   ]
  },
  {
   "cell_type": "code",
   "execution_count": 41,
   "id": "e7b5eace",
   "metadata": {},
   "outputs": [
    {
     "data": {
      "text/plain": [
       "{'name': 'Eman', 'age': 22, 'Faculty': 'AI'}"
      ]
     },
     "execution_count": 41,
     "metadata": {},
     "output_type": "execute_result"
    }
   ],
   "source": [
    "student_dict"
   ]
  },
  {
   "cell_type": "code",
   "execution_count": 35,
   "id": "3b086638",
   "metadata": {},
   "outputs": [],
   "source": [
    "students=[\n",
    "          {\"name\":\"Eman\",\"age\":22,\"Faculty\":\"CS\"},\n",
    "          {\"name\":\"ahmed\",\"age\":22,\"Faculty\":\"CS\"},\n",
    "          {\"name\":\"Sara\",\"age\":22,\"Faculty\":\"CS\"},\n",
    "          {\"name\":\"Fatma\",\"age\":22,\"Faculty\":\"CS\"}\n",
    "         ]"
   ]
  },
  {
   "cell_type": "code",
   "execution_count": 53,
   "id": "1d8ada7b",
   "metadata": {},
   "outputs": [
    {
     "name": "stdout",
     "output_type": "stream",
     "text": [
      "Enter your name:Alaa\n"
     ]
    }
   ],
   "source": [
    "name=input(\"Enter your name:\")"
   ]
  },
  {
   "cell_type": "code",
   "execution_count": 55,
   "id": "0dfe3114",
   "metadata": {},
   "outputs": [],
   "source": [
    "students.append({\"name\":name,\"age\":22,\"Faculty\":\"CS\"})"
   ]
  },
  {
   "cell_type": "code",
   "execution_count": 56,
   "id": "2430ed6f",
   "metadata": {},
   "outputs": [
    {
     "data": {
      "text/plain": [
       "[{'name': 'Eman', 'age': 22, 'Faculty': 'CS'},\n",
       " {'name': 'ahmed', 'age': 22, 'Faculty': 'CS'},\n",
       " {'name': 'Sara', 'age': 22, 'Faculty': 'CS'},\n",
       " {'name': 'Fatma', 'age': 22, 'Faculty': 'CS'},\n",
       " {'name': 'Mohamed', 'age': 22, 'Faculty': 'CS'},\n",
       " {'name': 'Alaa', 'age': 22, 'Faculty': 'CS'},\n",
       " {'name': 'Alaa', 'age': 22, 'Faculty': 'CS'}]"
      ]
     },
     "execution_count": 56,
     "metadata": {},
     "output_type": "execute_result"
    }
   ],
   "source": [
    "students"
   ]
  },
  {
   "cell_type": "code",
   "execution_count": 57,
   "id": "937d7af9",
   "metadata": {},
   "outputs": [],
   "source": [
    "import pandas as pd"
   ]
  },
  {
   "cell_type": "code",
   "execution_count": 58,
   "id": "2605136d",
   "metadata": {},
   "outputs": [],
   "source": [
    "df=pd.DataFrame(students)"
   ]
  },
  {
   "cell_type": "code",
   "execution_count": 59,
   "id": "10740b11",
   "metadata": {},
   "outputs": [
    {
     "data": {
      "text/html": [
       "<div>\n",
       "<style scoped>\n",
       "    .dataframe tbody tr th:only-of-type {\n",
       "        vertical-align: middle;\n",
       "    }\n",
       "\n",
       "    .dataframe tbody tr th {\n",
       "        vertical-align: top;\n",
       "    }\n",
       "\n",
       "    .dataframe thead th {\n",
       "        text-align: right;\n",
       "    }\n",
       "</style>\n",
       "<table border=\"1\" class=\"dataframe\">\n",
       "  <thead>\n",
       "    <tr style=\"text-align: right;\">\n",
       "      <th></th>\n",
       "      <th>name</th>\n",
       "      <th>age</th>\n",
       "      <th>Faculty</th>\n",
       "    </tr>\n",
       "  </thead>\n",
       "  <tbody>\n",
       "    <tr>\n",
       "      <th>0</th>\n",
       "      <td>Eman</td>\n",
       "      <td>22</td>\n",
       "      <td>CS</td>\n",
       "    </tr>\n",
       "    <tr>\n",
       "      <th>1</th>\n",
       "      <td>ahmed</td>\n",
       "      <td>22</td>\n",
       "      <td>CS</td>\n",
       "    </tr>\n",
       "    <tr>\n",
       "      <th>2</th>\n",
       "      <td>Sara</td>\n",
       "      <td>22</td>\n",
       "      <td>CS</td>\n",
       "    </tr>\n",
       "    <tr>\n",
       "      <th>3</th>\n",
       "      <td>Fatma</td>\n",
       "      <td>22</td>\n",
       "      <td>CS</td>\n",
       "    </tr>\n",
       "    <tr>\n",
       "      <th>4</th>\n",
       "      <td>Mohamed</td>\n",
       "      <td>22</td>\n",
       "      <td>CS</td>\n",
       "    </tr>\n",
       "    <tr>\n",
       "      <th>5</th>\n",
       "      <td>Alaa</td>\n",
       "      <td>22</td>\n",
       "      <td>CS</td>\n",
       "    </tr>\n",
       "    <tr>\n",
       "      <th>6</th>\n",
       "      <td>Alaa</td>\n",
       "      <td>22</td>\n",
       "      <td>CS</td>\n",
       "    </tr>\n",
       "  </tbody>\n",
       "</table>\n",
       "</div>"
      ],
      "text/plain": [
       "      name  age Faculty\n",
       "0     Eman   22      CS\n",
       "1    ahmed   22      CS\n",
       "2     Sara   22      CS\n",
       "3    Fatma   22      CS\n",
       "4  Mohamed   22      CS\n",
       "5     Alaa   22      CS\n",
       "6     Alaa   22      CS"
      ]
     },
     "execution_count": 59,
     "metadata": {},
     "output_type": "execute_result"
    }
   ],
   "source": [
    "df"
   ]
  },
  {
   "cell_type": "code",
   "execution_count": 60,
   "id": "9e307aa9",
   "metadata": {},
   "outputs": [],
   "source": [
    "df.to_excel('students.xlsx')"
   ]
  },
  {
   "cell_type": "markdown",
   "id": "c4dc06b1",
   "metadata": {},
   "source": [
    "# Function"
   ]
  },
  {
   "cell_type": "code",
   "execution_count": 61,
   "id": "bee42b1c",
   "metadata": {},
   "outputs": [],
   "source": [
    "def sayHello(name):\n",
    "    print(\"Hello,\"+name)"
   ]
  },
  {
   "cell_type": "code",
   "execution_count": 63,
   "id": "16e6cdb7",
   "metadata": {},
   "outputs": [
    {
     "name": "stdout",
     "output_type": "stream",
     "text": [
      "Hello,Ahmed\n"
     ]
    }
   ],
   "source": [
    "sayHello(\"Ahmed\")"
   ]
  },
  {
   "cell_type": "code",
   "execution_count": 64,
   "id": "3471de16",
   "metadata": {},
   "outputs": [
    {
     "name": "stdout",
     "output_type": "stream",
     "text": [
      "Hello,Fatma\n"
     ]
    }
   ],
   "source": [
    "sayHello(\"Fatma\")"
   ]
  },
  {
   "cell_type": "code",
   "execution_count": 65,
   "id": "0fdc203c",
   "metadata": {},
   "outputs": [
    {
     "name": "stdout",
     "output_type": "stream",
     "text": [
      "Hello,Sara\n"
     ]
    }
   ],
   "source": [
    "sayHello(\"Sara\")"
   ]
  },
  {
   "cell_type": "code",
   "execution_count": 66,
   "id": "d604dbab",
   "metadata": {},
   "outputs": [
    {
     "name": "stdout",
     "output_type": "stream",
     "text": [
      "Hello,Eman\n"
     ]
    }
   ],
   "source": [
    "sayHello(\"Eman\")"
   ]
  },
  {
   "cell_type": "markdown",
   "id": "f85774e7",
   "metadata": {},
   "source": [
    "`void sayhello(string name){\n",
    "    cout<<\"Hello,\"<<name<<endl;\n",
    "}`"
   ]
  },
  {
   "cell_type": "code",
   "execution_count": 67,
   "id": "f4cdaa79",
   "metadata": {},
   "outputs": [],
   "source": [
    "def maxNumber(x,y):\n",
    "    if x>y:\n",
    "        return x\n",
    "    else:\n",
    "        return y"
   ]
  },
  {
   "cell_type": "code",
   "execution_count": 69,
   "id": "02ad8b97",
   "metadata": {},
   "outputs": [
    {
     "data": {
      "text/plain": [
       "90"
      ]
     },
     "execution_count": 69,
     "metadata": {},
     "output_type": "execute_result"
    }
   ],
   "source": [
    "maxNumber(90,5)"
   ]
  },
  {
   "cell_type": "code",
   "execution_count": 70,
   "id": "bd38db44",
   "metadata": {},
   "outputs": [],
   "source": [
    "def cal_age(birthdate):\n",
    "    return 2022-birthdate"
   ]
  },
  {
   "cell_type": "code",
   "execution_count": 71,
   "id": "d39442e9",
   "metadata": {},
   "outputs": [
    {
     "data": {
      "text/plain": [
       "26"
      ]
     },
     "execution_count": 71,
     "metadata": {},
     "output_type": "execute_result"
    }
   ],
   "source": [
    "cal_age(1996)"
   ]
  },
  {
   "cell_type": "code",
   "execution_count": 72,
   "id": "54b0a165",
   "metadata": {},
   "outputs": [],
   "source": [
    "def legal_to_join_fb(age):\n",
    "    if(age>18):\n",
    "        print(\"legal\")\n",
    "    else:\n",
    "        print(\"Not Legal\")"
   ]
  },
  {
   "cell_type": "code",
   "execution_count": 73,
   "id": "1dc0e84a",
   "metadata": {},
   "outputs": [
    {
     "name": "stdout",
     "output_type": "stream",
     "text": [
      "legal\n"
     ]
    }
   ],
   "source": [
    "legal_to_join_fb(cal_age(1999))"
   ]
  },
  {
   "cell_type": "markdown",
   "id": "dbaaedd8",
   "metadata": {},
   "source": [
    "# Recurision"
   ]
  },
  {
   "cell_type": "code",
   "execution_count": 79,
   "id": "6e09e10f",
   "metadata": {},
   "outputs": [],
   "source": [
    "def loopRecursion(i):\n",
    "    print(i)\n",
    "    if i<=0:\n",
    "        return 0\n",
    "    else:\n",
    "        loopRecursion(i-1)"
   ]
  },
  {
   "cell_type": "code",
   "execution_count": 80,
   "id": "8c9fe5af",
   "metadata": {},
   "outputs": [
    {
     "name": "stdout",
     "output_type": "stream",
     "text": [
      "10\n",
      "9\n",
      "8\n",
      "7\n",
      "6\n",
      "5\n",
      "4\n",
      "3\n",
      "2\n",
      "1\n",
      "0\n"
     ]
    }
   ],
   "source": [
    "loopRecursion(10)"
   ]
  },
  {
   "cell_type": "code",
   "execution_count": 84,
   "id": "b144bad5",
   "metadata": {},
   "outputs": [
    {
     "name": "stdout",
     "output_type": "stream",
     "text": [
      "0\n",
      "1\n",
      "2\n",
      "3\n",
      "4\n",
      "5\n",
      "6\n",
      "7\n",
      "8\n",
      "9\n",
      "10\n"
     ]
    }
   ],
   "source": [
    "for i in range(0,11):\n",
    "    print(i)"
   ]
  },
  {
   "cell_type": "code",
   "execution_count": null,
   "id": "8e8b5636",
   "metadata": {},
   "outputs": [],
   "source": []
  }
 ],
 "metadata": {
  "kernelspec": {
   "display_name": "Python 3 (ipykernel)",
   "language": "python",
   "name": "python3"
  },
  "language_info": {
   "codemirror_mode": {
    "name": "ipython",
    "version": 3
   },
   "file_extension": ".py",
   "mimetype": "text/x-python",
   "name": "python",
   "nbconvert_exporter": "python",
   "pygments_lexer": "ipython3",
   "version": "3.9.12"
  }
 },
 "nbformat": 4,
 "nbformat_minor": 5
}
