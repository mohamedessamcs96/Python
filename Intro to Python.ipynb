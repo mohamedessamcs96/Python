{
 "cells": [
  {
   "cell_type": "markdown",
   "id": "1f8e0d98",
   "metadata": {},
   "source": [
    "# Introduction to Python\n",
    "---"
   ]
  },
  {
   "cell_type": "markdown",
   "id": "db510ffc",
   "metadata": {},
   "source": [
    "1. Variables\n",
    "2. If Statements\n",
    "3. Loop"
   ]
  },
  {
   "cell_type": "markdown",
   "id": "44798b8e",
   "metadata": {},
   "source": [
    "> **Mark down Langauge**\n",
    "[markdown Cheat Sheet](https://www.markdownguide.org/cheat-sheet/)"
   ]
  },
  {
   "cell_type": "code",
   "execution_count": 3,
   "id": "90eaeec3",
   "metadata": {},
   "outputs": [
    {
     "name": "stdout",
     "output_type": "stream",
     "text": [
      "Hello,World\n"
     ]
    }
   ],
   "source": [
    "print(\"Hello,World\")"
   ]
  },
  {
   "cell_type": "markdown",
   "id": "06fed61f",
   "metadata": {},
   "source": [
    "## Variables"
   ]
  },
  {
   "cell_type": "markdown",
   "id": "f29229aa",
   "metadata": {},
   "source": [
    "**In c++ java** \n",
    "`\n",
    "byte l; 128\n",
    " int x; 2 billion\n",
    " short y; 35000\n",
    " long z; 4billion\n",
    " \n",
    "`"
   ]
  },
  {
   "cell_type": "code",
   "execution_count": 4,
   "id": "046fa508",
   "metadata": {},
   "outputs": [],
   "source": [
    "x=5"
   ]
  },
  {
   "cell_type": "markdown",
   "id": "8fcbfb10",
   "metadata": {},
   "source": [
    "Getting no message is also a message...."
   ]
  },
  {
   "cell_type": "code",
   "execution_count": 6,
   "id": "25b28ee6",
   "metadata": {},
   "outputs": [
    {
     "name": "stdout",
     "output_type": "stream",
     "text": [
      "5\n"
     ]
    }
   ],
   "source": [
    "print(x)"
   ]
  },
  {
   "cell_type": "code",
   "execution_count": 7,
   "id": "825084d1",
   "metadata": {},
   "outputs": [],
   "source": [
    "ahmedgpa=3.5"
   ]
  },
  {
   "cell_type": "code",
   "execution_count": 8,
   "id": "7fcd3d71",
   "metadata": {},
   "outputs": [
    {
     "name": "stdout",
     "output_type": "stream",
     "text": [
      "3.5\n"
     ]
    }
   ],
   "source": [
    "print(ahmedgpa)"
   ]
  },
  {
   "cell_type": "code",
   "execution_count": 9,
   "id": "a53e2464",
   "metadata": {},
   "outputs": [],
   "source": [
    "name=\"Ahmed\""
   ]
  },
  {
   "cell_type": "code",
   "execution_count": 10,
   "id": "2097ee2a",
   "metadata": {},
   "outputs": [
    {
     "name": "stdout",
     "output_type": "stream",
     "text": [
      "Ahmed\n"
     ]
    }
   ],
   "source": [
    "print(name)"
   ]
  },
  {
   "cell_type": "code",
   "execution_count": 18,
   "id": "f63cb3f7",
   "metadata": {},
   "outputs": [],
   "source": [
    "fatma_salary=3500"
   ]
  },
  {
   "cell_type": "markdown",
   "id": "ae54d01a",
   "metadata": {},
   "source": [
    "## Arithmetic Operations"
   ]
  },
  {
   "cell_type": "code",
   "execution_count": 19,
   "id": "3d8edd42",
   "metadata": {},
   "outputs": [],
   "source": [
    "ahmed_salary=5000"
   ]
  },
  {
   "cell_type": "code",
   "execution_count": 20,
   "id": "a1f410aa",
   "metadata": {},
   "outputs": [],
   "source": [
    "eman_salary=4000"
   ]
  },
  {
   "cell_type": "markdown",
   "id": "1ddf0f93",
   "metadata": {},
   "source": [
    "## Concatination"
   ]
  },
  {
   "cell_type": "code",
   "execution_count": 22,
   "id": "17f059a1",
   "metadata": {},
   "outputs": [
    {
     "data": {
      "text/plain": [
       "'Ahmed Mohamed'"
      ]
     },
     "execution_count": 22,
     "metadata": {},
     "output_type": "execute_result"
    }
   ],
   "source": [
    "\"Ahmed \"+\"Mohamed\""
   ]
  },
  {
   "cell_type": "markdown",
   "id": "20b2dca7",
   "metadata": {},
   "source": [
    "### Casting"
   ]
  },
  {
   "cell_type": "code",
   "execution_count": 25,
   "id": "ba40e15f",
   "metadata": {},
   "outputs": [
    {
     "name": "stdout",
     "output_type": "stream",
     "text": [
      "Total Salary:12500\n"
     ]
    }
   ],
   "source": [
    "print(\"Total Salary:\"+str(ahmed_salary+eman_salary+fatma_salary))"
   ]
  },
  {
   "cell_type": "markdown",
   "id": "438bd363",
   "metadata": {},
   "source": [
    "# Ask user for input"
   ]
  },
  {
   "cell_type": "code",
   "execution_count": 31,
   "id": "681c3455",
   "metadata": {},
   "outputs": [
    {
     "name": "stdout",
     "output_type": "stream",
     "text": [
      "Enter the item Price:5240\n"
     ]
    }
   ],
   "source": [
    "item_price=int(input(\"Enter the item Price:\"))"
   ]
  },
  {
   "cell_type": "code",
   "execution_count": 33,
   "id": "34a609c0",
   "metadata": {},
   "outputs": [
    {
     "data": {
      "text/plain": [
       "int"
      ]
     },
     "execution_count": 33,
     "metadata": {},
     "output_type": "execute_result"
    }
   ],
   "source": [
    "type(item_price)"
   ]
  },
  {
   "cell_type": "markdown",
   "id": "abb1085a",
   "metadata": {},
   "source": [
    "## Procedures\n",
    "Equations:\n",
    "1. ()\n",
    "2. * /\n",
    "3. + -"
   ]
  },
  {
   "cell_type": "code",
   "execution_count": 38,
   "id": "9d9c2a51",
   "metadata": {},
   "outputs": [
    {
     "name": "stdout",
     "output_type": "stream",
     "text": [
      "5973.6\n"
     ]
    }
   ],
   "source": [
    "print(item_price+item_price*0.14)"
   ]
  },
  {
   "cell_type": "code",
   "execution_count": 42,
   "id": "a57f3120",
   "metadata": {},
   "outputs": [
    {
     "name": "stdout",
     "output_type": "stream",
     "text": [
      "In every room we have to put :4.0Guest\n"
     ]
    }
   ],
   "source": [
    "guests=20\n",
    "avrooms=5\n",
    "print(\"In every room we have to put :\"+str(guests/avrooms)+\"Guest\")"
   ]
  },
  {
   "cell_type": "markdown",
   "id": "6a75586b",
   "metadata": {},
   "source": [
    "## Comments"
   ]
  },
  {
   "cell_type": "code",
   "execution_count": 43,
   "id": "9e2025a0",
   "metadata": {},
   "outputs": [
    {
     "data": {
      "text/plain": [
       "'\\nHere is a multiple line commment....\\n'"
      ]
     },
     "execution_count": 43,
     "metadata": {},
     "output_type": "execute_result"
    }
   ],
   "source": [
    "#Here is a one line comment....\n",
    "\"\"\"\n",
    "Here is a multiple line commment....\n",
    "\"\"\""
   ]
  },
  {
   "cell_type": "code",
   "execution_count": 48,
   "id": "d4a398bb",
   "metadata": {},
   "outputs": [
    {
     "name": "stdout",
     "output_type": "stream",
     "text": [
      "Enter the man value:90\n",
      "Enter the woman value:90\n",
      "Save both of them!\n"
     ]
    }
   ],
   "source": [
    "man=int(input(\"Enter the man value:\"))\n",
    "woman=int(input(\"Enter the woman value:\"))\n",
    "\n",
    "if man>woman:\n",
    "    print(\"Save the man!\")\n",
    "elif woman>man:\n",
    "    print(\"Save the woman!\")\n",
    "else:\n",
    "    print(\"Save both of them!\")"
   ]
  },
  {
   "cell_type": "code",
   "execution_count": 51,
   "id": "c48e4a12",
   "metadata": {},
   "outputs": [
    {
     "name": "stdout",
     "output_type": "stream",
     "text": [
      "Enter the grade:90\n",
      "A\n",
      "B\n",
      "C\n"
     ]
    }
   ],
   "source": [
    "grade=int(input(\"Enter the grade:\"))\n",
    "if grade>=85:\n",
    "    print(\"A\")\n",
    "elif grade>=75:\n",
    "    print(\"B\")\n",
    "elif grade>=65:\n",
    "    print(\"C\")\n",
    "else:\n",
    "    print(\"F\")"
   ]
  },
  {
   "cell_type": "markdown",
   "id": "1386500f",
   "metadata": {},
   "source": [
    "## Loop  in c++\n",
    "`for (int i=0;i<10;i++){\n",
    "    cout<<\"\"<<endl;\n",
    "}`"
   ]
  },
  {
   "cell_type": "code",
   "execution_count": 53,
   "id": "276c15c8",
   "metadata": {},
   "outputs": [
    {
     "name": "stdout",
     "output_type": "stream",
     "text": [
      "0\n",
      "1\n",
      "2\n",
      "3\n",
      "4\n",
      "5\n",
      "6\n",
      "7\n",
      "8\n",
      "9\n"
     ]
    }
   ],
   "source": [
    "for i in range(0,10):\n",
    "    print(i)"
   ]
  },
  {
   "cell_type": "code",
   "execution_count": 56,
   "id": "96359f37",
   "metadata": {},
   "outputs": [
    {
     "name": "stdout",
     "output_type": "stream",
     "text": [
      "0\n",
      "2\n",
      "4\n",
      "6\n",
      "8\n"
     ]
    }
   ],
   "source": [
    "for i in range(0,10,2):\n",
    "    print(i)"
   ]
  },
  {
   "cell_type": "code",
   "execution_count": null,
   "id": "cc5a2b0f",
   "metadata": {},
   "outputs": [],
   "source": [
    "while True:\n",
    "    print(\"Walk up!\")"
   ]
  },
  {
   "cell_type": "code",
   "execution_count": 61,
   "id": "a07f93a8",
   "metadata": {},
   "outputs": [
    {
     "name": "stdout",
     "output_type": "stream",
     "text": [
      "Wakeup\n",
      "Wakeup\n",
      "Wakeup\n",
      "Wakeup\n",
      "Wakeup\n",
      "Wakeup\n",
      "Wakeup\n",
      "Wakeup\n",
      "Wakeup\n",
      "Wakeup\n"
     ]
    }
   ],
   "source": [
    "counter=0\n",
    "while(counter<10):\n",
    "    print(\"Wakeup\")\n",
    "    counter=counter+1"
   ]
  },
  {
   "cell_type": "code",
   "execution_count": 68,
   "id": "3fc8c12a",
   "metadata": {},
   "outputs": [
    {
     "name": "stdout",
     "output_type": "stream",
     "text": [
      "Enter battey status:60\n",
      "Battery now is:65\n",
      "Battery now is:70\n",
      "Battery now is:75\n",
      "Battery now is:80\n",
      "Battery now is:85\n",
      "Battery now is:90\n",
      "Battery now is:95\n",
      "Battery now is:100\n"
     ]
    }
   ],
   "source": [
    "battery=int(input(\"Enter battey status:\"))\n",
    "while(battery<100):\n",
    "    battery=battery+5\n",
    "    print(\"Battery now is:\"+str(battery))"
   ]
  }
 ],
 "metadata": {
  "kernelspec": {
   "display_name": "Python 3 (ipykernel)",
   "language": "python",
   "name": "python3"
  },
  "language_info": {
   "codemirror_mode": {
    "name": "ipython",
    "version": 3
   },
   "file_extension": ".py",
   "mimetype": "text/x-python",
   "name": "python",
   "nbconvert_exporter": "python",
   "pygments_lexer": "ipython3",
   "version": "3.9.12"
  }
 },
 "nbformat": 4,
 "nbformat_minor": 5
}
