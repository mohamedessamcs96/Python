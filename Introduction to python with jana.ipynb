{
 "cells": [
  {
   "cell_type": "markdown",
   "id": "60471c39",
   "metadata": {},
   "source": [
    "# Intro to python\n"
   ]
  },
  {
   "cell_type": "code",
   "execution_count": 1,
   "id": "6928de9d",
   "metadata": {},
   "outputs": [
    {
     "name": "stdout",
     "output_type": "stream",
     "text": [
      "Hello,Jana\n"
     ]
    }
   ],
   "source": [
    "print(\"Hello,Jana\")"
   ]
  },
  {
   "cell_type": "markdown",
   "id": "4afcbfb6",
   "metadata": {},
   "source": [
    "integer variable in C:`int x=5;`"
   ]
  },
  {
   "cell_type": "code",
   "execution_count": 22,
   "id": "81b14f5c",
   "metadata": {},
   "outputs": [],
   "source": [
    "x=float(5)"
   ]
  },
  {
   "cell_type": "code",
   "execution_count": 23,
   "id": "c9ccad0d",
   "metadata": {},
   "outputs": [
    {
     "name": "stdout",
     "output_type": "stream",
     "text": [
      "5.0\n"
     ]
    }
   ],
   "source": [
    "print(x)"
   ]
  },
  {
   "cell_type": "code",
   "execution_count": 5,
   "id": "281146a1",
   "metadata": {},
   "outputs": [],
   "source": [
    "y=9.5"
   ]
  },
  {
   "cell_type": "code",
   "execution_count": 6,
   "id": "6b505e75",
   "metadata": {},
   "outputs": [
    {
     "name": "stdout",
     "output_type": "stream",
     "text": [
      "9.5\n"
     ]
    }
   ],
   "source": [
    "print(y)"
   ]
  },
  {
   "cell_type": "code",
   "execution_count": 7,
   "id": "8a172222",
   "metadata": {},
   "outputs": [],
   "source": [
    "z=\"Jana\""
   ]
  },
  {
   "cell_type": "code",
   "execution_count": 8,
   "id": "10d8ef57",
   "metadata": {},
   "outputs": [
    {
     "name": "stdout",
     "output_type": "stream",
     "text": [
      "Jana\n"
     ]
    }
   ],
   "source": [
    "print(z)"
   ]
  },
  {
   "cell_type": "code",
   "execution_count": 11,
   "id": "cb316058",
   "metadata": {},
   "outputs": [
    {
     "name": "stdout",
     "output_type": "stream",
     "text": [
      "280.0\n"
     ]
    }
   ],
   "source": [
    "item=1000\n",
    "print(item+item*0.14)"
   ]
  },
  {
   "cell_type": "markdown",
   "id": "28e4815e",
   "metadata": {},
   "source": [
    "1. ()\n",
    "2. * /\n",
    "3. + -"
   ]
  },
  {
   "cell_type": "markdown",
   "id": "96b966c9",
   "metadata": {},
   "source": [
    "# Concatentation "
   ]
  },
  {
   "cell_type": "code",
   "execution_count": 14,
   "id": "7a2bf456",
   "metadata": {},
   "outputs": [
    {
     "name": "stdout",
     "output_type": "stream",
     "text": [
      "Enter Your name:jana\n",
      "Hello,jana\n"
     ]
    }
   ],
   "source": [
    "name=input(\"Enter Your name:\")\n",
    "print(\"Hello,\"+name)"
   ]
  },
  {
   "cell_type": "code",
   "execution_count": 17,
   "id": "019aeb5f",
   "metadata": {},
   "outputs": [
    {
     "data": {
      "text/plain": [
       "'1996'"
      ]
     },
     "execution_count": 17,
     "metadata": {},
     "output_type": "execute_result"
    }
   ],
   "source": [
    "'1996'"
   ]
  },
  {
   "cell_type": "code",
   "execution_count": 18,
   "id": "e2c0dd5c",
   "metadata": {},
   "outputs": [
    {
     "data": {
      "text/plain": [
       "1996"
      ]
     },
     "execution_count": 18,
     "metadata": {},
     "output_type": "execute_result"
    }
   ],
   "source": [
    "int('1996')"
   ]
  },
  {
   "cell_type": "markdown",
   "id": "07a0e9c0",
   "metadata": {},
   "source": [
    "# Casting"
   ]
  },
  {
   "cell_type": "code",
   "execution_count": 24,
   "id": "2fbc6649",
   "metadata": {},
   "outputs": [
    {
     "name": "stdout",
     "output_type": "stream",
     "text": [
      "Enter your birthdate:1996\n",
      "<class 'int'>\n",
      "<class 'int'>\n",
      "My age is :26\n"
     ]
    }
   ],
   "source": [
    "#We have to cast the output to integer\n",
    "\"\"\"\n",
    "This is a multi line comment\n",
    "\"\"\"\n",
    "birthdate=int(input(\"Enter your birthdate:\"))\n",
    "print(type(birthdate))\n",
    "age=2022-birthdate\n",
    "print(type(age))\n",
    "print(\"My age is :\"+str(age))"
   ]
  },
  {
   "cell_type": "markdown",
   "id": "96c529e4",
   "metadata": {},
   "source": [
    "### Logical Error"
   ]
  },
  {
   "cell_type": "code",
   "execution_count": 30,
   "id": "cfad1a52",
   "metadata": {},
   "outputs": [
    {
     "name": "stdout",
     "output_type": "stream",
     "text": [
      "Woman\n"
     ]
    }
   ],
   "source": [
    "man=23\n",
    "woman=23\n",
    "\n",
    "if(man>woman):\n",
    "    print(\"man\")\n",
    "else:\n",
    "    print(\"Woman\")"
   ]
  },
  {
   "cell_type": "code",
   "execution_count": 31,
   "id": "87b53673",
   "metadata": {},
   "outputs": [
    {
     "name": "stdout",
     "output_type": "stream",
     "text": [
      "Save both of them....\n"
     ]
    }
   ],
   "source": [
    "if man >woman:\n",
    "    print(\"Save the man\")\n",
    "elif woman > man:\n",
    "    print(\"Save the woman\")\n",
    "else:\n",
    "    print(\"Save both of them....\")"
   ]
  },
  {
   "cell_type": "code",
   "execution_count": 34,
   "id": "9d6febf7",
   "metadata": {},
   "outputs": [
    {
     "name": "stdout",
     "output_type": "stream",
     "text": [
      "Enter Your Grade:90\n",
      "A\n",
      "B\n",
      "C\n",
      "D\n"
     ]
    }
   ],
   "source": [
    "grade=int(input(\"Enter Your Grade:\"))\n",
    "#plan A\n",
    "if grade>=85:\n",
    "    print(\"A\")\n",
    "#plan B\n",
    "elif grade>=75:\n",
    "    print(\"B\")\n",
    "elif grade>=65:\n",
    "    print(\"C\")\n",
    "elif grade>=50:\n",
    "    print(\"D\")\n",
    "else:\n",
    "    print(\"Fail!!!\")"
   ]
  },
  {
   "cell_type": "code",
   "execution_count": 35,
   "id": "2c31ee6f",
   "metadata": {},
   "outputs": [
    {
     "name": "stdout",
     "output_type": "stream",
     "text": [
      "Enter your letter grade:A\n"
     ]
    }
   ],
   "source": [
    "letter=input(\"Enter your letter grade:\")"
   ]
  },
  {
   "cell_type": "code",
   "execution_count": 36,
   "id": "61422750",
   "metadata": {},
   "outputs": [],
   "source": [
    "import datetime"
   ]
  },
  {
   "cell_type": "code",
   "execution_count": 38,
   "id": "548cbbb0",
   "metadata": {},
   "outputs": [],
   "source": [
    "now=datetime.datetime.now()"
   ]
  },
  {
   "cell_type": "code",
   "execution_count": 39,
   "id": "65274ba2",
   "metadata": {},
   "outputs": [
    {
     "name": "stdout",
     "output_type": "stream",
     "text": [
      "2022-07-18 19:22:00.137660\n"
     ]
    }
   ],
   "source": [
    "print(now)"
   ]
  },
  {
   "cell_type": "code",
   "execution_count": 40,
   "id": "389e104c",
   "metadata": {},
   "outputs": [
    {
     "name": "stdout",
     "output_type": "stream",
     "text": [
      "2022\n"
     ]
    }
   ],
   "source": [
    "print(now.year)"
   ]
  },
  {
   "cell_type": "code",
   "execution_count": 41,
   "id": "f134c05c",
   "metadata": {},
   "outputs": [
    {
     "data": {
      "text/plain": [
       "int"
      ]
     },
     "execution_count": 41,
     "metadata": {},
     "output_type": "execute_result"
    }
   ],
   "source": [
    "type(now.year)"
   ]
  },
  {
   "cell_type": "code",
   "execution_count": 42,
   "id": "cdb418f4",
   "metadata": {},
   "outputs": [
    {
     "name": "stdout",
     "output_type": "stream",
     "text": [
      "Enter your birthdate:1996\n",
      "<class 'int'>\n",
      "<class 'int'>\n",
      "My age is :26\n"
     ]
    }
   ],
   "source": [
    "birthdate=int(input(\"Enter your birthdate:\"))\n",
    "print(type(birthdate))\n",
    "age=now.year-birthdate\n",
    "print(type(age))\n",
    "print(\"My age is :\"+str(age))"
   ]
  },
  {
   "cell_type": "markdown",
   "id": "0b259197",
   "metadata": {},
   "source": [
    "`\n",
    "int x;\n",
    "\n",
    "switch(x){\n",
    "    case 1:printf(\"\")\n",
    "    break;\n",
    "    case 2:printf(\"Sunday\")\n",
    "}\n",
    "\n",
    "`"
   ]
  },
  {
   "cell_type": "code",
   "execution_count": 43,
   "id": "6d9400cc",
   "metadata": {},
   "outputs": [
    {
     "name": "stdout",
     "output_type": "stream",
     "text": [
      "Saturday\n"
     ]
    }
   ],
   "source": [
    "day=1\n",
    "\n",
    "if day==1:\n",
    "    print(\"Saturday\")\n",
    "elif day==2:\n",
    "    print(\"Sunday\")"
   ]
  },
  {
   "cell_type": "markdown",
   "id": "a3fe517a",
   "metadata": {},
   "source": [
    "# And & OR"
   ]
  },
  {
   "cell_type": "code",
   "execution_count": 47,
   "id": "77823b98",
   "metadata": {},
   "outputs": [
    {
     "name": "stdout",
     "output_type": "stream",
     "text": [
      "legal\n"
     ]
    }
   ],
   "source": [
    "age=43\n",
    "\n",
    "if(age>18 or age<40):\n",
    "    print(\"legal\")\n",
    "else:\n",
    "    print(\"Not Legal\")"
   ]
  },
  {
   "cell_type": "code",
   "execution_count": 50,
   "id": "24d09d40",
   "metadata": {},
   "outputs": [
    {
     "name": "stdout",
     "output_type": "stream",
     "text": [
      "yes\n"
     ]
    }
   ],
   "source": [
    "name=\"Jana\"\n",
    "\n",
    "if name!=\"Mohamed\":\n",
    "    print(\"yes\")\n",
    "else:\n",
    "    print(\"No\")"
   ]
  },
  {
   "cell_type": "markdown",
   "id": "3dbd7f78",
   "metadata": {},
   "source": [
    "# Looop"
   ]
  },
  {
   "cell_type": "markdown",
   "id": "23b85130",
   "metadata": {},
   "source": [
    "When I know how many time should i repeat/count.....\n",
    "`\n",
    "for(int i=0;i<10;i++){\n",
    "    printf(\"X\");\n",
    "}\n",
    "`"
   ]
  },
  {
   "cell_type": "code",
   "execution_count": 54,
   "id": "a251256a",
   "metadata": {},
   "outputs": [
    {
     "name": "stdout",
     "output_type": "stream",
     "text": [
      "Walkup1\n",
      "Walkup3\n",
      "Walkup5\n",
      "Walkup7\n",
      "Walkup9\n"
     ]
    }
   ],
   "source": [
    "#start...\n",
    "#end...\n",
    "#update...\n",
    "for i in range(1,10,2):\n",
    "    print(\"Walkup\"+str(i))"
   ]
  },
  {
   "cell_type": "code",
   "execution_count": 62,
   "id": "39ca1954",
   "metadata": {},
   "outputs": [
    {
     "name": "stdout",
     "output_type": "stream",
     "text": [
      "Enter you status:20\n",
      "30\n",
      "40\n",
      "50\n",
      "60\n",
      "70\n",
      "80\n",
      "90\n",
      "100\n"
     ]
    }
   ],
   "source": [
    "#I use while when i don;t know how many time should i loop\n",
    "battery=int(input(\"Enter you status:\"))\n",
    "\n",
    "\n",
    "while(battery<100):\n",
    "    battery=battery+10\n",
    "    print(battery)\n",
    "    "
   ]
  }
 ],
 "metadata": {
  "kernelspec": {
   "display_name": "Python 3 (ipykernel)",
   "language": "python",
   "name": "python3"
  },
  "language_info": {
   "codemirror_mode": {
    "name": "ipython",
    "version": 3
   },
   "file_extension": ".py",
   "mimetype": "text/x-python",
   "name": "python",
   "nbconvert_exporter": "python",
   "pygments_lexer": "ipython3",
   "version": "3.9.12"
  }
 },
 "nbformat": 4,
 "nbformat_minor": 5
}
